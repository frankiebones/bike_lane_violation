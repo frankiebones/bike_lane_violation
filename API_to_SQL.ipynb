{
 "cells": [
  {
   "cell_type": "code",
   "execution_count": null,
   "id": "b07f3ce8",
   "metadata": {},
   "outputs": [],
   "source": [
    "# %load API_to_SQL.py"
   ]
  },
  {
   "cell_type": "code",
   "execution_count": 6,
   "id": "c845a4db",
   "metadata": {},
   "outputs": [],
   "source": [
    "%run API_to_SQL.py"
   ]
  }
 ],
 "metadata": {
  "kernelspec": {
   "display_name": "PythonData",
   "language": "python",
   "name": "pythondata"
  },
  "language_info": {
   "codemirror_mode": {
    "name": "ipython",
    "version": 3
   },
   "file_extension": ".py",
   "mimetype": "text/x-python",
   "name": "python",
   "nbconvert_exporter": "python",
   "pygments_lexer": "ipython3",
   "version": "3.7.11"
  }
 },
 "nbformat": 4,
 "nbformat_minor": 5
}
