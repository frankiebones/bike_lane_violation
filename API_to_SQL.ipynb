{
 "cells": [
  {
   "cell_type": "code",
   "execution_count": null,
   "id": "8b0baf0c",
   "metadata": {},
   "outputs": [],
   "source": [
    "# %load API_to_SQL.py"
   ]
  },
  {
   "cell_type": "code",
   "execution_count": 6,
   "id": "81c94ea8",
   "metadata": {},
   "outputs": [],
   "source": [
    "%run API_to_SQL.py"
   ]
  }
 ],
 "metadata": {
  "kernelspec": {
   "display_name": "PythonData",
   "language": "python",
   "name": "pythondata"
  },
  "language_info": {
   "codemirror_mode": {
    "name": "ipython",
    "version": 3
   },
   "file_extension": ".py",
   "mimetype": "text/x-python",
   "name": "python",
   "nbconvert_exporter": "python",
   "pygments_lexer": "ipython3",
   "version": "3.7.11"
  }
 },
 "nbformat": 4,
 "nbformat_minor": 5
}
